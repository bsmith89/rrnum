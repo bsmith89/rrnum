{
 "metadata": {
  "name": ""
 },
 "nbformat": 3,
 "nbformat_minor": 0,
 "worksheets": [
  {
   "cells": [
    {
     "cell_type": "code",
     "collapsed": false,
     "input": [
      "from Bio import Phylo\n",
      "\n",
      "tree = Phylo.read('seq/16S.afn.rename.tre', 'newick')"
     ],
     "language": "python",
     "metadata": {},
     "outputs": []
    },
    {
     "cell_type": "code",
     "collapsed": false,
     "input": [
      "# No. of leaves.\n",
      "len(tree.get_terminals())"
     ],
     "language": "python",
     "metadata": {},
     "outputs": []
    },
    {
     "cell_type": "code",
     "collapsed": false,
     "input": [
      "# No. of organisms.\n",
      "len(set(leaf.name.split('_')[0] for leaf in tree.get_terminals()))"
     ],
     "language": "python",
     "metadata": {},
     "outputs": []
    },
    {
     "cell_type": "code",
     "collapsed": false,
     "input": [
      "# Tree with the genome ID as the name\n",
      "org_tree = Phylo.read('seq/16S.afn.rename.tre', 'newick')\n",
      "for leaf in org_tree.get_terminals():\n",
      "    leaf.name = leaf.name.split('_')[0]"
     ],
     "language": "python",
     "metadata": {},
     "outputs": []
    },
    {
     "cell_type": "code",
     "collapsed": false,
     "input": [
      "# Histogram of mean distances between 16S sequences from the same genome.\n",
      "# This will take ~30 minutes to run.\n",
      "from itertools import combinations\n",
      "\n",
      "names = set(leaf.name for leaf in org_tree.get_terminals())\n",
      "\n",
      "all_distances = []\n",
      "for name in names:\n",
      "    print name,\n",
      "    distances = []\n",
      "    for comb in combinations(org_tree.find_elements(name=name), 2):\n",
      "        distances.append(org_tree.distance(*comb))\n",
      "    all_distances.append(list(distances))\n",
      "    \n",
      "hist([mean(dists) for dists in all_distances])\n",
      "# Forgot to remove singletons"
     ],
     "language": "python",
     "metadata": {},
     "outputs": []
    },
    {
     "cell_type": "code",
     "collapsed": false,
     "input": [
      "# The way the histogram should looked\n",
      "hist([mean(dists) for dists in all_distances if dists])"
     ],
     "language": "python",
     "metadata": {},
     "outputs": []
    },
    {
     "cell_type": "code",
     "collapsed": false,
     "input": [
      "# How many organisms had multiple, divergent sequences represented?\n",
      "all_dists_clean = [dists for dists in all_distances if sum(dists) > 0]\n",
      "print len(all_dists_clean), \"of\", len(all_distances)"
     ],
     "language": "python",
     "metadata": {},
     "outputs": []
    },
    {
     "cell_type": "code",
     "collapsed": false,
     "input": [
      "hist([log10(mean(dists)) for dists in all_dists_clean], bins=50)\n",
      "print  # Remove the extra hist() output."
     ],
     "language": "python",
     "metadata": {},
     "outputs": []
    },
    {
     "cell_type": "code",
     "collapsed": false,
     "input": [
      "# Save the distances to disk\n",
      "with open('distances.txt', 'w') as handle:\n",
      "    for distances in all_dists_clean:\n",
      "        handle.write(\",\".join(array(distances, dtype=str)))\n",
      "        handle.write(\"\\n\")"
     ],
     "language": "python",
     "metadata": {},
     "outputs": []
    },
    {
     "cell_type": "code",
     "collapsed": false,
     "input": [
      "# This will take ~30 minutes to run.\n",
      "# Remake the distances with the genomeid as a key\n",
      "from itertools import combinations\n",
      "\n",
      "names = set(leaf.name for leaf in org_tree.get_terminals())\n",
      "\n",
      "all_distances = {}\n",
      "for name in names:\n",
      "    print name,\n",
      "    distances = []\n",
      "    for comb in combinations(org_tree.find_elements(name=name), 2):\n",
      "        distances.append(org_tree.distance(*comb))\n",
      "    all_distances[name] = list(distances)"
     ],
     "language": "python",
     "metadata": {},
     "outputs": []
    },
    {
     "cell_type": "code",
     "collapsed": false,
     "input": [
      "# Turns out it's the find_elements() call that takes the most time.\n",
      "# Here's a histogram of the number of features in the tree per genome.\n",
      "counter = {}\n",
      "for leaf in org_tree.get_terminals():\n",
      "    if leaf.name in counter:\n",
      "        counter[leaf.name] += 1\n",
      "    else:\n",
      "        counter[leaf.name] = 1\n",
      "\n",
      "hist(counter.values(), bins=range(1, 16))"
     ],
     "language": "python",
     "metadata": {},
     "outputs": []
    },
    {
     "cell_type": "code",
     "collapsed": false,
     "input": [
      "genomes = {}\n",
      "for leaf in org_tree.get_terminals():\n",
      "    if leaf.name in genomes:\n",
      "        genomes[leaf.name].append(leaf)\n",
      "    else:\n",
      "        genomes[leaf.name] = [leaf]\n",
      "        \n",
      "dists = {}\n",
      "for genomeid in genomes:\n",
      "    print genomeid,\n",
      "    dists[genomeid] = [org_tree.distance(*comb)\n",
      "                       for comb in combinations(genomes[genomeid], 2)]"
     ],
     "language": "python",
     "metadata": {},
     "outputs": []
    },
    {
     "cell_type": "code",
     "collapsed": false,
     "input": [
      "from itertools import chain\n",
      "\n",
      "hist(log(array([x for x in chain(*dists.values()) if x > 0])), bins=50)"
     ],
     "language": "python",
     "metadata": {},
     "outputs": []
    },
    {
     "cell_type": "code",
     "collapsed": false,
     "input": [
      "# Save the distances to disk\n",
      "with open('distances.txt', 'w') as handle:\n",
      "    for genomeid in dists:\n",
      "        handle.write(genomeid)\n",
      "        handle.write(\"\\t\")\n",
      "        handle.write(\",\".join(array(dists[genomeid], dtype=str)))\n",
      "        handle.write(\"\\n\")"
     ],
     "language": "python",
     "metadata": {},
     "outputs": []
    },
    {
     "cell_type": "code",
     "collapsed": false,
     "input": [
      "mean([max(dists) for dists in all_dists_clean])"
     ],
     "language": "python",
     "metadata": {},
     "outputs": []
    }
   ],
   "metadata": {}
  }
 ]
}