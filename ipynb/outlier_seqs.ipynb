{
 "metadata": {
  "name": ""
 },
 "nbformat": 3,
 "nbformat_minor": 0,
 "worksheets": [
  {
   "cells": [
    {
     "cell_type": "code",
     "collapsed": false,
     "input": [
      "cd .."
     ],
     "language": "python",
     "metadata": {},
     "outputs": []
    },
    {
     "cell_type": "code",
     "collapsed": false,
     "input": [
      "from Bio.Phylo import read as read_tree\n",
      "\n",
      "tree = read_tree('tre/16S.ungap.afn.rename.tre', 'newick')"
     ],
     "language": "python",
     "metadata": {},
     "outputs": []
    },
    {
     "cell_type": "code",
     "collapsed": false,
     "input": [
      "outlier_clade = tree.common_ancestor('1572_992299', '1419_22388')\n",
      "#outlier_clade.get_terminals()"
     ],
     "language": "python",
     "metadata": {},
     "outputs": []
    },
    {
     "cell_type": "code",
     "collapsed": false,
     "input": [
      "fids = []\n",
      "gids = []\n",
      "for leaf in outlier_clade.get_terminals():\n",
      "    gid, fid = leaf.name.split('_')\n",
      "    gids.append(gid)\n",
      "    fids.append(fid)"
     ],
     "language": "python",
     "metadata": {},
     "outputs": []
    },
    {
     "cell_type": "code",
     "collapsed": false,
     "input": [
      "from pandas import DataFrame as df\n",
      "\n",
      "data = df(dict(fid=fids, genomeid=gids))\n",
      "data.to_csv(\"res/outlier_seqs.tsv\", sep='\\t', index=False)"
     ],
     "language": "python",
     "metadata": {},
     "outputs": []
    },
    {
     "cell_type": "code",
     "collapsed": false,
     "input": [
      "from Bio.SeqIO import parse as parse_seqs\n",
      "\n",
      "fid_set = set(fids)\n",
      "outlier_recs = []\n",
      "for rec in parse_seqs(\"seq/16S.fn\", 'fasta'):\n",
      "    if rec.name in fid_set:\n",
      "        outlier_recs.append(rec)\n",
      "#outlier_recs"
     ],
     "language": "python",
     "metadata": {},
     "outputs": []
    },
    {
     "cell_type": "code",
     "collapsed": false,
     "input": [
      "from Bio.SeqIO import write as write_seqs\n",
      "\n",
      "write_seqs(outlier_recs, \"seq/16S.outliers.fn\", 'fasta')"
     ],
     "language": "python",
     "metadata": {},
     "outputs": []
    },
    {
     "cell_type": "code",
     "collapsed": false,
     "input": [
      "import random\n",
      "\n",
      "inlier_recs = random.sample(list(parse_seqs(\"seq/16S.fn\", 'fasta')), len(outlier_recs))\n",
      "write_seqs(inlier_recs, \"seq/16S.inliers.fn\", 'fasta')"
     ],
     "language": "python",
     "metadata": {},
     "outputs": []
    },
    {
     "cell_type": "code",
     "collapsed": false,
     "input": [
      "all_inliers = []\n",
      "\n",
      "fid_set = set(fids)\n",
      "for rec in parse_seqs(\"seq/16S.ungap.afn\", 'fasta'):\n",
      "    if rec.name not in fid_set:\n",
      "        all_inliers.append(rec)"
     ],
     "language": "python",
     "metadata": {},
     "outputs": []
    },
    {
     "cell_type": "code",
     "collapsed": false,
     "input": [
      "write_seqs(all_inliers, \"seq/16S.ungap.no-out.afn\", 'fasta')"
     ],
     "language": "python",
     "metadata": {},
     "outputs": []
    }
   ],
   "metadata": {}
  }
 ]
}