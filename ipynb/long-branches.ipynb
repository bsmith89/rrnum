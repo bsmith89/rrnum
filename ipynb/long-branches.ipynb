{
 "metadata": {
  "name": "",
  "signature": "sha256:212e6eb103e9bddb310cf44c86b49b1a7bf7672877daf2f0fa3cd478a845aa11"
 },
 "nbformat": 3,
 "nbformat_minor": 0,
 "worksheets": [
  {
   "cells": [
    {
     "cell_type": "code",
     "collapsed": false,
     "input": [
      "cd ~/Projects/rrnum"
     ],
     "language": "python",
     "metadata": {},
     "outputs": []
    },
    {
     "cell_type": "code",
     "collapsed": false,
     "input": [
      "from Bio.Phylo import read\n",
      "\n",
      "tree = read('tre/16S.with-probs.ungap.no-out.afn.tre', 'newick')"
     ],
     "language": "python",
     "metadata": {},
     "outputs": []
    },
    {
     "cell_type": "code",
     "collapsed": false,
     "input": [
      "leaves = tree.get_terminals()\n",
      "branch_lengths = [leaf.branch_length for leaf in leaves]"
     ],
     "language": "python",
     "metadata": {},
     "outputs": []
    },
    {
     "cell_type": "code",
     "collapsed": false,
     "input": [
      "def get_top(sequence, frac, key=None):\n",
      "    return sorted(sequence, key=key, reverse=True)[:int(frac * len(sequence))]"
     ],
     "language": "python",
     "metadata": {},
     "outputs": []
    },
    {
     "cell_type": "code",
     "collapsed": false,
     "input": [
      "longest_branches = set([leaf.name\n",
      "                        for leaf in get_top(leaves, 0.01,\n",
      "                                            lambda leaf: leaf.branch_length)])"
     ],
     "language": "python",
     "metadata": {},
     "outputs": []
    },
    {
     "cell_type": "code",
     "collapsed": false,
     "input": [
      "from Bio.SeqIO import parse, write\n",
      "\n",
      "out_seqs = []\n",
      "for rec in parse('seq/16S.fn', 'fasta'):\n",
      "    if rec.name in longest_branches:\n",
      "        out_seqs.append(rec)\n",
      "        \n",
      "write(out_seqs, 'seq/16S.longbranches.fn', 'fasta')"
     ],
     "language": "python",
     "metadata": {},
     "outputs": []
    }
   ],
   "metadata": {}
  }
 ]
}