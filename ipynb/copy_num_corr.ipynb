{
 "metadata": {
  "name": ""
 },
 "nbformat": 3,
 "nbformat_minor": 0,
 "worksheets": [
  {
   "cells": [
    {
     "cell_type": "code",
     "collapsed": false,
     "input": [
      "from Bio.Phylo import read as read_tree\n",
      "\n",
      "\n",
      "tree = read_tree('../tre/16S.ungap.afn.rename.tre', 'newick')"
     ],
     "language": "python",
     "metadata": {},
     "outputs": []
    },
    {
     "cell_type": "code",
     "collapsed": false,
     "input": [
      "genome_rrncopies_map = {}\n",
      "with open('../meta/16S.tsv') as handle:\n",
      "    for line in handle:\n",
      "        fields = line.split()\n",
      "        key = fields[1]\n",
      "        try:\n",
      "            value = int(fields[3])\n",
      "        except ValueError:\n",
      "            continue\n",
      "        else:\n",
      "            if key in genome_rrncopies_map:\n",
      "                assert genome_rrncopies_map[key] == value\n",
      "            else:\n",
      "                genome_rrncopies_map[key] = value"
     ],
     "language": "python",
     "metadata": {},
     "outputs": []
    },
    {
     "cell_type": "code",
     "collapsed": false,
     "input": [
      "import random\n",
      "\n",
      "n = 10000\n",
      "sample = random.sample(tree.get_terminals(), n)\n",
      "\n",
      "def chunks(iterator, n, part_last=False):\n",
      "    out = []\n",
      "    for i, item in enumerate(iterator):\n",
      "        out.append(item)\n",
      "        if (i != 0) and (i % n):\n",
      "            yield out\n",
      "            out = []\n",
      "    if out and part_last:\n",
      "        yield out"
     ],
     "language": "python",
     "metadata": {},
     "outputs": []
    },
    {
     "cell_type": "code",
     "collapsed": false,
     "input": [
      "from pandas import DataFrame\n",
      "from itertools import combinations\n",
      "\n",
      "def get_copies(name):\n",
      "    return genome_rrncopies_map[name.split(\"_\")[0]]\n",
      "\n",
      "table = []\n",
      "for a, b in chunks(sample, 2):\n",
      "    table.append((a.name, b.name, get_copies(a.name), get_copies(b.name), tree.distance(a, b)))\n",
      "transpose = zip(*table)\n",
      "data = DataFrame(dict(leaf1 = transpose[0],\n",
      "                      leaf2 = transpose[1],\n",
      "                      copy1 = transpose[2],\n",
      "                      copy2 = transpose[3],\n",
      "                      distance = transpose[4]))"
     ],
     "language": "python",
     "metadata": {},
     "outputs": []
    },
    {
     "cell_type": "code",
     "collapsed": false,
     "input": [
      "data['norm_distance'] = data['distance'] / tree.total_branch_length()"
     ],
     "language": "python",
     "metadata": {},
     "outputs": []
    },
    {
     "cell_type": "code",
     "collapsed": false,
     "input": [
      "from matplotlib.colors import LogNorm\n",
      "\n",
      "xwob = rand(len(data)) - 0.5\n",
      "ywob = rand(len(data)) - 0.5\n",
      "scatter(data['copy1'] + xwob, data['copy2'] + ywob,\n",
      "        s=100,\n",
      "        c=data['norm_distance'], cmap='hot', norm=LogNorm(),\n",
      "        alpha=0.35, lw=0, marker='.',\n",
      "        )\n",
      "colorbar()\n",
      "plt.xlim(1,15)\n",
      "plt.ylim(1,15)"
     ],
     "language": "python",
     "metadata": {},
     "outputs": []
    },
    {
     "cell_type": "code",
     "collapsed": false,
     "input": [
      "hist(log10(data.norm_distance[data.norm_distance > 0]), bins=50)"
     ],
     "language": "python",
     "metadata": {},
     "outputs": []
    },
    {
     "cell_type": "code",
     "collapsed": false,
     "input": [
      "import statsmodels.api as sm\n",
      "\n",
      "data['norm_nearness'] = 1 - data['norm_distance']\n",
      "lm1 = sm.WLS(data['copy1'], data['copy2'], weights=(1. / data['norm_distance']))\n",
      "lm2 = sm.WLS(data['copy1'], data['copy2'], weights=data['norm_nearness'])\n",
      "lm3 = sm.WLS(data['copy1'], data['copy2'], weights=1. / (data['norm_distance'] + 282.9))\n",
      "\n",
      "print lm1.fit().summary()\n",
      "print '#############'\n",
      "print lm2.fit().summary()  # Much better LL.\n",
      "print '#############'\n",
      "print lm3.fit().summary()"
     ],
     "language": "python",
     "metadata": {},
     "outputs": []
    },
    {
     "cell_type": "code",
     "collapsed": false,
     "input": [
      "from random import choice, uniform\n",
      "from itertools import izip\n",
      "\n",
      "def choice(iterable, weights):\n",
      "    total = sum(weights)\n",
      "    r = random.uniform(0, total)\n",
      "    \n",
      "    upto = 0\n",
      "    for item, weight in izip(iterable, weights):\n",
      "        if upto + weight >= r:\n",
      "            return item\n",
      "        else:\n",
      "            upto += weight\n",
      "    assert False\n",
      "\n",
      "def rand_leaf(clade):\n",
      "    if clade.is_terminal():\n",
      "        return clade\n",
      "    else:\n",
      "        lengths = [elem.branch_length for elem in clade.clades]\n",
      "        if sum(lengths) == 0:\n",
      "            weights = [1] * len(lengths)\n",
      "        else:\n",
      "            weights = lengths\n",
      "        return rand_leaf(choice(clade.clades, weights))\n",
      "    \n",
      "%timeit rand_leaf(tree.clade)"
     ],
     "language": "python",
     "metadata": {},
     "outputs": []
    },
    {
     "cell_type": "code",
     "collapsed": false,
     "input": [
      "n = 100000\n",
      "\n",
      "sample = (rand_leaf(tree.clade) for i in range(n))\n",
      "len(set(sample))"
     ],
     "language": "python",
     "metadata": {},
     "outputs": []
    },
    {
     "cell_type": "code",
     "collapsed": false,
     "input": [
      "a = array([0, 0, 0])\n",
      "a == 0"
     ],
     "language": "python",
     "metadata": {},
     "outputs": []
    },
    {
     "cell_type": "code",
     "collapsed": false,
     "input": [
      "data_clean = data[data.distance > 0]\n",
      "lm4 = sm.WLS(data_clean['copy1'], data_clean['copy2'], weights=(1. / data_clean['distance']))\n",
      "lm4.fit().summary()"
     ],
     "language": "python",
     "metadata": {},
     "outputs": []
    },
    {
     "cell_type": "code",
     "collapsed": false,
     "input": [
      "len(data[data.distance < 0.3])"
     ],
     "language": "python",
     "metadata": {},
     "outputs": []
    },
    {
     "cell_type": "code",
     "collapsed": false,
     "input": [
      "data_clean = data[data.distance < data.distance.median()]\n",
      "xwob = rand(len(data_clean)) - 0.5\n",
      "ywob = rand(len(data_clean)) - 0.5\n",
      "scatter(data_clean.copy1 + xwob, data_clean.copy2 + ywob,\n",
      "        s=100,\n",
      "        c=data_clean.distance, cmap='hot', norm=LogNorm(),\n",
      "        alpha=0.35, lw=0, marker='.')\n",
      "colorbar()\n",
      "plt.xlim(1,15)\n",
      "plt.ylim(1,15)\n",
      "lm5 = sm.WLS(data_clean['copy1'], data_clean['copy2'], weights=1)\n",
      "lm5.fit().summary()"
     ],
     "language": "python",
     "metadata": {},
     "outputs": []
    },
    {
     "cell_type": "code",
     "collapsed": false,
     "input": [
      "data_clean = data[data.distance < 0.3]\n",
      "xwob = rand(len(data_clean)) - 0.5\n",
      "ywob = rand(len(data_clean)) - 0.5\n",
      "scatter(data_clean.copy1 + xwob, data_clean.copy2 + ywob,\n",
      "        s=100,\n",
      "        c=data_clean.distance, cmap='hot', norm=LogNorm(),\n",
      "        alpha=0.35, lw=0, marker='.')\n",
      "colorbar()\n",
      "plt.xlim(1,15)\n",
      "plt.ylim(1,15)\n",
      "lm6 = sm.OLS(data_clean['copy1'], data_clean['copy2'])\n",
      "lm6.fit().summary()"
     ],
     "language": "python",
     "metadata": {},
     "outputs": []
    },
    {
     "cell_type": "code",
     "collapsed": false,
     "input": [
      "data['xwob'] = rand(len(data)) - 0.5\n",
      "data['ywob'] = rand(len(data)) - 0.5\n",
      "scatter(data.copy1 + data.xwob, data.copy2 + data.ywob,\n",
      "        s=100,\n",
      "        c=data.distance, cmap='hot', norm=LogNorm(),\n",
      "        alpha=0.35, lw=0, marker='.')\n",
      "colorbar()\n",
      "plt.xlim(1,15)\n",
      "plt.ylim(1,15)\n"
     ],
     "language": "python",
     "metadata": {},
     "outputs": []
    },
    {
     "cell_type": "code",
     "collapsed": false,
     "input": [
      "dists = linspace(data.distance.min(), 1, 100)\n",
      "r2s = []\n",
      "coefs = []\n",
      "ci_low = []\n",
      "ci_hi = []\n",
      "for d in dists:\n",
      "    sub_data = data[data.distance < d]\n",
      "    if len(sub_data) < 2:\n",
      "        r2s.append(float(nan))\n",
      "        coefs.append(float(nan))\n",
      "        ci_low.append(float(nan))\n",
      "        ci_hi.append(float(nan))\n",
      "        continue\n",
      "    lm = sm.OLS(sub_data['copy1'], sub_data['copy2'])\n",
      "    fit = lm.fit()\n",
      "    r2s.append(fit.rsquared)\n",
      "    coefs.append(fit.params[0])\n",
      "    ci = fit.conf_int()\n",
      "    ci_low.append(ci[0])\n",
      "    ci_hi.append(ci[1])\n",
      "fig, ax1 = plt.subplots()\n",
      "ax1.fill_between(dists, ci_low, ci_hi, lw=0, alpha=0.2, label=\"95% Confidence Band\")\n",
      "ax1.plot(dists, coefs, label=\"$\\\\hat{\\\\beta}$\")\n",
      "ax1.plot(dists, r2s, label='$R^2$')\n",
      "ax1.set_xlabel(\"Maximum Distance\")\n",
      "ax1.legend(loc=\"upper right\")\n",
      "ax2 = ax1.twinx()\n",
      "ax2.hist(data.distance, bins=dists, normed=True, alpha=0.1)\n",
      "ax2.set_ylabel(\"Probability Density\")\n",
      "#fig.savefig('../res/2014-09-01_fig1.png')   # Depracated, see figure below."
     ],
     "language": "python",
     "metadata": {},
     "outputs": []
    },
    {
     "cell_type": "code",
     "collapsed": false,
     "input": [
      "data['genome1'] = data.leaf1.str.split('_').str.get(0)\n",
      "data['genome2'] = data.leaf2.str.split('_').str.get(0)"
     ],
     "language": "python",
     "metadata": {},
     "outputs": []
    },
    {
     "cell_type": "code",
     "collapsed": false,
     "input": [
      "# Now without any matched genomes.\n",
      "dists = linspace(data.distance.min(), 1, 100)\n",
      "r2s = []\n",
      "coefs = []\n",
      "ci_low = []\n",
      "ci_hi = []\n",
      "for d in dists:\n",
      "    sub_data = data[(data.distance < d) & (data.genome1 != data.genome2)]\n",
      "    if len(sub_data) < 2:\n",
      "        r2s.append(float(nan))\n",
      "        coefs.append(float(nan))\n",
      "        ci_low.append(float(nan))\n",
      "        ci_hi.append(float(nan))\n",
      "        continue\n",
      "    lm = sm.OLS(sub_data['copy1'], sub_data['copy2'])\n",
      "    fit = lm.fit()\n",
      "    r2s.append(fit.rsquared)\n",
      "    coefs.append(fit.params[0])\n",
      "    ci = fit.conf_int()\n",
      "    ci_low.append(ci[0])\n",
      "    ci_hi.append(ci[1])\n",
      "fig, ax1 = plt.subplots()\n",
      "ax1.fill_between(dists, ci_low, ci_hi, lw=0, alpha=0.2, label=\"95% Confidence Band\")\n",
      "ax1.plot(dists, coefs, label=\"$\\\\hat{\\\\beta}$\")\n",
      "ax1.plot(dists, r2s, label='$R^2$')\n",
      "ax1.set_xlabel(\"Maximum Distance\")\n",
      "ax1.legend(loc=\"upper right\")\n",
      "ax2 = ax1.twinx()\n",
      "ax2.hist(data.distance[data.genome1 != data.genome2], bins=dists, normed=True, alpha=0.1, color='k')\n",
      "ax2.set_ylabel(\"Probability Density\")\n",
      "fig.savefig('../res/2014-09-01_fig1.png')"
     ],
     "language": "python",
     "metadata": {},
     "outputs": []
    }
   ],
   "metadata": {}
  }
 ]
}