{
 "metadata": {
  "name": "",
  "signature": "sha256:6aeb90e4a97620e3875937eb5fde3ea7dd541927e397226bf405e347105852b8"
 },
 "nbformat": 3,
 "nbformat_minor": 0,
 "worksheets": [
  {
   "cells": [
    {
     "cell_type": "code",
     "collapsed": false,
     "input": [
      "cd ~/Projects/rrnum/"
     ],
     "language": "python",
     "metadata": {},
     "outputs": []
    },
    {
     "cell_type": "code",
     "collapsed": false,
     "input": [
      "from pandas import read_table\n",
      "\n",
      "data = read_table(\"res/16S.dists.sample.tsv\")"
     ],
     "language": "python",
     "metadata": {},
     "outputs": []
    },
    {
     "cell_type": "code",
     "collapsed": false,
     "input": [
      "data['deviation'] = abs(data.copy1 - data.copy2)\n",
      "data['log2deviation'] = log2(data.deviation)"
     ],
     "language": "python",
     "metadata": {},
     "outputs": []
    },
    {
     "cell_type": "code",
     "collapsed": false,
     "input": [
      "# Takes about 5 minutes to run\n",
      "\n",
      "from matplotlib.colors import LogNorm\n",
      "import statsmodels.api as sm\n",
      "\n",
      "fig, ax = subplots(1, 1, figsize=(20,5))\n",
      "y_wobb = rand(len(data.deviation)) - 0.5\n",
      "scatter(data.perc_ident, data.deviation + y_wobb, c=data.copy1, lw=0, alpha=0.1, norm=LogNorm())\n",
      "cb = colorbar()\n",
      "cb.set_alpha(1)\n",
      "cb.draw_all()\n",
      "\n",
      "lowess = sm.nonparametric.lowess(data.deviation, data.perc_ident)\n",
      "ax.plot(lowess[:, 0], lowess[:, 1])"
     ],
     "language": "python",
     "metadata": {},
     "outputs": []
    },
    {
     "cell_type": "code",
     "collapsed": false,
     "input": [
      "# This is actually non-sensical.  Nevermind.\n",
      "\n",
      "fig, ax = subplots(1, 1, figsize=(20,5))\n",
      "y_wobb = rand(len(data.deviation)) - 0.5\n",
      "scatter(data.perc_ident, log2(data.deviation + y_wobb), c=data.copy1, lw=0, alpha=0.1, norm=LogNorm())\n",
      "cb = colorbar()\n",
      "cb.set_alpha(1)\n",
      "cb.draw_all()\n",
      "\n",
      "lowess_log2 = sm.nonparametric.lowess(log2(data.deviation), data.perc_ident)\n",
      "ax.plot(lowess[:, 0], lowess[:, 1])"
     ],
     "language": "python",
     "metadata": {},
     "outputs": []
    },
    {
     "cell_type": "code",
     "collapsed": false,
     "input": [
      "data['fold_deviation'] = data.copy1 / data.copy2\n",
      "data['log2fold_deviation'] = log2(data.fold_deviation)\n",
      "data['abslog2fold'] = abs(data.log2fold_deviation)"
     ],
     "language": "python",
     "metadata": {},
     "outputs": []
    },
    {
     "cell_type": "code",
     "collapsed": false,
     "input": [
      "fig, ax = subplots(1, 1, figsize=(20,5))\n",
      "scatter(data.perc_ident, data.log2fold_deviation, c=data.copy1, lw=0, alpha=0.1, norm=LogNorm())\n",
      "cb = colorbar()\n",
      "cb.set_alpha(1)\n",
      "cb.draw_all()"
     ],
     "language": "python",
     "metadata": {},
     "outputs": []
    },
    {
     "cell_type": "code",
     "collapsed": false,
     "input": [
      "# And since we care about the magnitude of the deviation in either direction.\n",
      "\n",
      "fig, ax = subplots(1, 1, figsize=(20,5))\n",
      "scatter(data.perc_ident, abs(data.log2fold_deviation), c=data.copy1, lw=0, alpha=0.1, norm=LogNorm(), cmap=\"cool\")\n",
      "cb = colorbar()\n",
      "cb.set_alpha(1)\n",
      "cb.draw_all()\n",
      "\n",
      "lowess_abslog2fold = sm.nonparametric.lowess(data.abslog2fold, data.perc_ident)\n",
      "ax.plot(lowess_abslog2fold[:, 0], lowess_abslog2fold[:, 1], '--', c='k', lw=2)"
     ],
     "language": "python",
     "metadata": {},
     "outputs": []
    },
    {
     "cell_type": "code",
     "collapsed": false,
     "input": [
      "# I've just realized that we haven't taken a random sample among organisms, since we're hitting\n",
      "# high copy numbers more frequently.\n",
      "\n",
      "data['sq_fold_error'] = (log2(data.copy1) - log2(data.copy2)) ** 2\n",
      "\n",
      "fig, ax = subplots(1, 1, figsize=(20,5))\n",
      "scatter(data.perc_ident, data.sq_fold_error, lw=0, alpha=0.1, #c=data.copy1, norm=LogNorm()\n",
      "        )\n",
      "#cb = colorbar()\n",
      "#cb.set_alpha(1)\n",
      "#cb.draw_all()\n",
      "\n",
      "#lowess_sq_fold_error = sm.nonparametric.lowess(data.sq_fold_error, data.perc_ident)\n",
      "ax.plot(lowess_sq_fold_error[:, 0], lowess_sq_fold_error[:, 1], '--', c='k', lw=2)\n",
      "ax.plot(lowess_sq_fold_error[:, 0], sqrt(lowess_sq_fold_error[:, 1]), '--', c='r', lw=2)"
     ],
     "language": "python",
     "metadata": {},
     "outputs": []
    },
    {
     "cell_type": "code",
     "collapsed": false,
     "input": [
      "from scipy.stats import norm\n",
      "\n",
      "plot(lowess_sq_fold_error[:, 0], sqrt(lowess_sq_fold_error[:, 1]))\n",
      "plot(lowess_sq_fold_error[:, 0], norm.ppf(.975, scale=sqrt(lowess_sq_fold_error[:, 1])))"
     ],
     "language": "python",
     "metadata": {},
     "outputs": []
    },
    {
     "cell_type": "code",
     "collapsed": false,
     "input": [
      "norm.ppf(.975, scale=1)"
     ],
     "language": "python",
     "metadata": {},
     "outputs": []
    },
    {
     "cell_type": "code",
     "collapsed": false,
     "input": [
      "fig, ax = subplots(1, 1, figsize=(20,5))\n",
      "scatter(data.perc_ident, data.log2fold_deviation, c=data.copy1, lw=0, alpha=0.02, norm=LogNorm())\n",
      "cb = colorbar()\n",
      "cb.set_alpha(1)\n",
      "cb.draw_all()\n",
      "\n",
      "plot(lowess_sq_fold_error[:, 0], norm.ppf(.75, scale=sqrt(lowess_sq_fold_error[:, 1])), '--', c='k')\n",
      "plot(lowess_sq_fold_error[:, 0], norm.ppf(.25, scale=sqrt(lowess_sq_fold_error[:, 1])), '--', c='k')"
     ],
     "language": "python",
     "metadata": {},
     "outputs": []
    },
    {
     "cell_type": "code",
     "collapsed": false,
     "input": [
      "# What about if I use a moving average instead?\n",
      "\n",
      "def moving_average(exog, endog, window, func=mean):\n",
      "    exog = array(exog)\n",
      "    endog = array(endog)\n",
      "    xs = linspace(min(exog), max(exog))\n",
      "    ys = []\n",
      "    for i, x in enumerate(xs):\n",
      "        wind_l = max(min(exog), x - window / 2.)\n",
      "        wind_h = min(max(exog), x + window / 2.)\n",
      "        values = endog[(exog > wind_l) & (exog < wind_h)]\n",
      "        ys.append(func(values))\n",
      "    return xs, array(ys)\n",
      "\n",
      "scatter(data.perc_ident, data.sq_fold_error, lw=0, alpha=0.1)\n",
      "plot(*moving_average(data.perc_ident, data.sq_fold_error, window=0.1), c='k', lw=2)"
     ],
     "language": "python",
     "metadata": {},
     "outputs": []
    },
    {
     "cell_type": "code",
     "collapsed": false,
     "input": [
      "fig, ax = subplots(1, 1, figsize=(10,5))\n",
      "scatter(data.perc_ident, data.log2fold_deviation, c=data.copy1, s=3, lw=0, alpha=0.2, norm=LogNorm())\n",
      "cb = colorbar()\n",
      "cb.set_alpha(1)\n",
      "cb.draw_all()\n",
      "cb.set_label(\"$c_1$\")\n",
      "cb.set_ticks(range(1, 15))\n",
      "\n",
      "var_estimate = moving_average(data.perc_ident, data.sq_fold_error, window=0.1)\n",
      "plot(var_estimate[0], norm.ppf(.75, scale=sqrt(var_estimate[1])), '--', c='k')\n",
      "plot(var_estimate[0], norm.ppf(.25, scale=sqrt(var_estimate[1])), '--', c='k')\n",
      "\n",
      "ax.set_xlim((0.5, 1))\n",
      "ax.set_ylim((-4, 4))\n",
      "ax.set_xlabel(\"Proportion Sequence Identity\")\n",
      "ax.set_ylabel(\"$\\log_2(c_1 / c_2)$\")"
     ],
     "language": "python",
     "metadata": {},
     "outputs": []
    },
    {
     "cell_type": "code",
     "collapsed": false,
     "input": [
      "def middle_half(seq):\n",
      "    try:\n",
      "        first_quartile = seq[int(0.25 * len(seq))]\n",
      "    except IndexError:\n",
      "        first_quartile = float('nan')\n",
      "    try:\n",
      "        second_quartile = seq[int(0.75 * len(seq))]\n",
      "    except:\n",
      "        second_quartile = float('nan')\n",
      "    return first_quartile, second_quartile"
     ],
     "language": "python",
     "metadata": {},
     "outputs": []
    },
    {
     "cell_type": "code",
     "collapsed": false,
     "input": [
      "data_sorted = data.sort('log2fold_deviation')\n",
      "interquartile = moving_average(data_sorted.perc_ident, data_sorted.log2fold_deviation, 0.1, func=middle_half)"
     ],
     "language": "python",
     "metadata": {},
     "outputs": []
    },
    {
     "cell_type": "code",
     "collapsed": false,
     "input": [
      "fig, ax = subplots(1, 1, figsize=(10,5))\n",
      "\n",
      "data_sorted = data.sort('log2fold_deviation')\n",
      "interquartile = moving_average(data_sorted.perc_ident, data_sorted.log2fold_deviation, 0.01, func=middle_half)\n",
      "fill_between(interquartile[0], interquartile[1].T[0], interquartile[1].T[1], color='k', alpha=0.1, lw=0, label=\"interquartile\")\n",
      "\n",
      "var_estimate = moving_average(data.perc_ident, data.sq_fold_error, window=0.1)\n",
      "plot(var_estimate[0], norm.ppf(.75, scale=sqrt(var_estimate[1])), '--', c='k')\n",
      "plot(var_estimate[0], norm.ppf(.25, scale=sqrt(var_estimate[1])), '--', c='k')\n",
      "\n",
      "scatter(data.perc_ident, data.log2fold_deviation, c=data.copy1, s=5, lw=0, alpha=0.05, norm=LogNorm(), cmap='cool')\n",
      "cb = colorbar()\n",
      "cb.set_alpha(1)\n",
      "cb.draw_all()\n",
      "cb.set_label(\"$c_1$\", size=20, rotation='horizontal')\n",
      "cb.set_ticks(range(1, 15))\n",
      "\n",
      "ax.set_xlim((0.5, 1))\n",
      "ax.set_ylim((-4, 4))\n",
      "ax.set_xlabel(\"Sequence Identity\", size=20)\n",
      "ax.set_ylabel(\"$\\log_2(c_1 / c_2)$\", size=20)\n",
      "\n",
      "plt.savefig('static/2014-09-17_fig1.png')"
     ],
     "language": "python",
     "metadata": {},
     "outputs": []
    },
    {
     "cell_type": "code",
     "collapsed": false,
     "input": [
      "a, b = array([[0,1],[2,3]]).T\n",
      "a"
     ],
     "language": "python",
     "metadata": {},
     "outputs": []
    },
    {
     "cell_type": "code",
     "collapsed": false,
     "input": [
      "fig = plt.figure()\n",
      "ax = fig.plot"
     ],
     "language": "python",
     "metadata": {},
     "outputs": []
    }
   ],
   "metadata": {}
  }
 ]
}